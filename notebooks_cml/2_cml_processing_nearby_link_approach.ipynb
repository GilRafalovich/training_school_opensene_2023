{
 "cells": [
  {
   "cell_type": "markdown",
   "id": "416d5576-e311-426b-a1cb-5ef60baea193",
   "metadata": {},
   "source": [
    "# **The nearby link appraoch**\n",
    "___\n",
    "<img src=\"https://github.com/overeem11/RAINLINK/blob/v.1.21/LinksAmsterdam15min201109102015StamenMapsMap.jpeg?raw=true\" alt=\"drawing\" width=\"600\"/>"
   ]
  },
  {
   "cell_type": "markdown",
   "id": "0025ae06-71c8-47c0-9927-6e438c0490a8",
   "metadata": {},
   "source": [
    "15 min rainfall map from 10 September 2011, for links only for Amsterdam, the Netherlands. Spatial resolution is approximately 0.9 km2 from \n",
    "[Overeem et al. 2016](https://doi.org/10.5194/amt-9-2425-2016)    \n",
    "\n",
    "___  \n",
    "\n",
    "Maximilian Graf & Erlend Oydvin\n",
    "___\n",
    "University of Augsburg & Norwegian University of Life Sciences"
   ]
  },
  {
   "cell_type": "code",
   "execution_count": null,
   "id": "ffc68525-6604-4256-8d5f-90e9b7a9e9b0",
   "metadata": {},
   "outputs": [],
   "source": [
    "%load_ext autoreload\n",
    "%autoreload 2\n",
    "%matplotlib inline\n",
    "\n",
    "import matplotlib.pyplot as plt\n",
    "import numpy as np\n",
    "import pandas as pd\n",
    "import xarray as xr\n",
    "\n",
    "import pycomlink as pycml\n",
    "import pycomlink.processing.wet_dry.nearby_wetdry as nearby_wetdry\n",
    "import pycomlink.processing.nearby_rain_retrival as nearby_rain"
   ]
  },
  {
   "cell_type": "markdown",
   "id": "04b29489-f417-429c-9cfe-9cda27df0837",
   "metadata": {},
   "source": [
    "# Example of the rain event detection and rainfall retrieval using the nearby appraoch from Overeem et al. 2016"
   ]
  },
  {
   "cell_type": "markdown",
   "id": "9a62b4fb-a202-464a-99e7-5445dedcda17",
   "metadata": {},
   "source": [
    "We load example data included in `pycomlink`. One NetCDF file contains the time series of 500 CMLs with two `sublinks/channels` over 10 days. "
   ]
  },
  {
   "cell_type": "code",
   "execution_count": null,
   "id": "a0365c4f-8cef-448b-b65e-e98daa98e34b",
   "metadata": {},
   "outputs": [],
   "source": [
    "pycml.io.examples.get_example_data_path()\n",
    "\n",
    "data_path = pycml.io.examples.get_example_data_path()\n",
    "\n",
    "cmls = xr.open_dataset(data_path + \"/example_cml_data.nc\")\n",
    "cmls"
   ]
  },
  {
   "cell_type": "code",
   "execution_count": null,
   "id": "f948300b-939e-4b53-acdf-fa5d2aff514c",
   "metadata": {},
   "outputs": [],
   "source": [
    "cmls.sel(cml_id='333',channel_id='channel_1').rsl.plot()\n",
    "cmls.sel(cml_id='333',channel_id='channel_1').tsl.plot();"
   ]
  },
  {
   "cell_type": "markdown",
   "id": "31f76377-0e5d-4894-8b5c-b56e95df5ed0",
   "metadata": {},
   "source": [
    "## Prepare data\n",
    "#### Removing default values from CML DAQ system and interpolating small gaps in tsl and rsl time series"
   ]
  },
  {
   "cell_type": "code",
   "execution_count": null,
   "id": "f0c90033-b872-4e6b-9a53-0f51d3feea86",
   "metadata": {},
   "outputs": [],
   "source": [
    "cmls[\"rsl\"] = cmls[\"rsl\"].where(cmls.rsl > -99.9)\n",
    "cmls[\"tsl\"] = cmls[\"tsl\"].where(cmls.tsl < 255.0)\n",
    "cmls[\"rsl\"] = cmls.rsl.interpolate_na(dim=\"time\", method=\"linear\", max_gap=\"5min\")\n",
    "cmls[\"tsl\"] = cmls.tsl.interpolate_na(dim=\"time\", method=\"linear\", max_gap=\"5min\")"
   ]
  },
  {
   "cell_type": "code",
   "execution_count": null,
   "id": "434b5769-78ba-4e45-8d4e-5c366b974b1b",
   "metadata": {},
   "outputs": [],
   "source": [
    "plt.plot(\n",
    "        [cmls.site_a_longitude, cmls.site_b_longitude],\n",
    "        [cmls.site_a_latitude, cmls.site_b_latitude],\n",
    "        color='grey',\n",
    "        linewidth=1,\n",
    "    );"
   ]
  },
  {
   "cell_type": "markdown",
   "id": "585596d5-5748-4734-ad07-bb04be271d9a",
   "metadata": {},
   "source": [
    "#### Instanteanous to min-max data and calculation of attenuation"
   ]
  },
  {
   "cell_type": "markdown",
   "id": "88f7d1bc-eb52-4bd9-8381-cbd662461a3d",
   "metadata": {},
   "source": [
    "Transfering instantaneous example data to 15 minute (interval) min-max data defining the minmal number of hours (min_hours) needed in a given time period (time period) to calssify wet and dry periods in the subsequent step. If no tsl data is available, a constant tsl has to be assumed and incoporated in CMLs.  \n",
    "\n",
    "Also, this step calculates deltaP (attenuation) and deltaPL (specific attenuation)\n"
   ]
  },
  {
   "cell_type": "code",
   "execution_count": null,
   "id": "728ba733-258c-4a76-902f-a7c33c9403ea",
   "metadata": {},
   "outputs": [],
   "source": [
    "pmin, max_pmin, deltaP, deltaPL = nearby_wetdry.instantaneous_to_minmax_data(\n",
    "    rsl=cmls.rsl,\n",
    "    tsl=cmls.tsl,\n",
    "    length=cmls.length,\n",
    "    interval=15,\n",
    "    timeperiod=24,\n",
    "    min_hours=6,\n",
    ")\n"
   ]
  },
  {
   "cell_type": "markdown",
   "id": "376282b3-93e9-4d07-8606-7209b5232c96",
   "metadata": {},
   "source": [
    "#### Exercise 1\n",
    "Plot rsl and tsl for one CML and sub-link. Plot pmin, max_pmin, deltaP, deltaPL in a new figure for the same CML/sublink. Checkout [`nearby_wetdry.instantaneous_to_minmax_data()`](https://github.com/pycomlink/pycomlink/blob/ca4383987c6fec29630a782854affcc2b5e8df98/pycomlink/processing/wet_dry/nearby_wetdry.py#L86) and explain to each other what pmin, max_pmin, deltaP and deltaPL mean."
   ]
  },
  {
   "cell_type": "code",
   "execution_count": null,
   "id": "62f7f18c-9462-41bd-8bbf-db29abb133b4",
   "metadata": {},
   "outputs": [],
   "source": [
    "# your solution:\n"
   ]
  },
  {
   "cell_type": "code",
   "execution_count": null,
   "id": "28b30288-63e3-425b-b59a-6fede3cecf18",
   "metadata": {},
   "outputs": [],
   "source": [
    "if input(\"Enter 'Solution' to display solutions: \")=='Solution':\n",
    "    %load hints_solutions/2_1_solution.py"
   ]
  },
  {
   "cell_type": "markdown",
   "id": "09008a9f-77d8-455d-a8ae-4e64eed55e01",
   "metadata": {},
   "source": [
    "#### Calculate a distance matrix\n",
    "Calculating distances between all cml endpoints and plotting the neighbors used for wet-dry classification depending on the distance"
   ]
  },
  {
   "cell_type": "code",
   "execution_count": null,
   "id": "95bed849-f507-4051-81a2-6e2692b14cf2",
   "metadata": {},
   "outputs": [],
   "source": [
    "ds_dist = nearby_wetdry.calc_distance_between_cml_endpoints(\n",
    "    cml_ids=cmls.cml_id.values,\n",
    "    site_a_latitude=cmls.site_a_latitude,\n",
    "    site_a_longitude=cmls.site_a_longitude,\n",
    "    site_b_latitude=cmls.site_b_latitude,\n",
    "    site_b_longitude=cmls.site_b_longitude,\n",
    ")"
   ]
  },
  {
   "cell_type": "code",
   "execution_count": null,
   "id": "f63ac6d0-2187-48a5-a87a-4e1ad14fd67a",
   "metadata": {},
   "outputs": [],
   "source": [
    "ds_dist.isel(cml_id1=250).a_to_all_a.plot.hist(bins=50);"
   ]
  },
  {
   "cell_type": "code",
   "execution_count": null,
   "id": "60bc0a3c-0c35-4e65-bab2-17349dd75557",
   "metadata": {},
   "outputs": [],
   "source": [
    "r=15 # radius in km\n",
    "ds_dist[\"within_r\"] = (\n",
    "        (ds_dist.a_to_all_a < r)\n",
    "        & (ds_dist.a_to_all_b < r)\n",
    "        & (ds_dist.b_to_all_a < r)\n",
    "        & (ds_dist.b_to_all_b < r)\n",
    ")"
   ]
  },
  {
   "cell_type": "code",
   "execution_count": null,
   "id": "b950edc2-9595-4d35-b02f-9cad4c763252",
   "metadata": {},
   "outputs": [],
   "source": [
    "ds_dist.within_r.sum(dim=\"cml_id2\").plot.hist(bins=int(ds_dist.within_r.sum(dim=\"cml_id2\").max()))\n",
    "plt.vlines(4,ymin=0,ymax=50,color=\"red\")\n",
    "plt.grid()\n",
    "plt.annotate(text=\"sufficient dense\\nCML network if count>3\", xy=(4,45), xytext=(10,43), arrowprops=dict(arrowstyle=\"<-\"))\n",
    "plt.xlabel(\"CMLs within radius r\")\n",
    "plt.ylabel(\"count\");"
   ]
  },
  {
   "cell_type": "markdown",
   "id": "f0d92cc0-9978-4329-9e18-732cb44dcfb5",
   "metadata": {},
   "source": [
    "#### Exercise 2\n",
    "Vary the radius r for the distance between CML endopints and plot the count of CMLs which are within this certain radius."
   ]
  },
  {
   "cell_type": "code",
   "execution_count": null,
   "id": "0172709d-7410-40a9-a950-f81d22021e90",
   "metadata": {},
   "outputs": [],
   "source": [
    "# your solution:\n"
   ]
  },
  {
   "cell_type": "code",
   "execution_count": null,
   "id": "fb103455-86b3-493b-ae44-e585638d9891",
   "metadata": {},
   "outputs": [],
   "source": [
    "if input(\"Enter 'Solution' to display solutions: \")=='Solution':\n",
    "    %load hints_solutions/2_2_solution.py"
   ]
  },
  {
   "cell_type": "markdown",
   "id": "b028890c-16ba-4636-9aaf-68ea69f786fc",
   "metadata": {},
   "source": [
    "## Rain event detection\n",
    "using default paramters from Overeem et al. (2016)"
   ]
  },
  {
   "cell_type": "code",
   "execution_count": null,
   "id": "b52f6d81-a74f-4d2d-893d-af28d95a3e92",
   "metadata": {},
   "outputs": [],
   "source": [
    "wet, F, medianP_out, medianPL_out = nearby_wetdry.nearby_wetdry(\n",
    "    pmin=pmin,\n",
    "    max_pmin=max_pmin,\n",
    "    deltaP=deltaP,\n",
    "    deltaPL=deltaPL,\n",
    "    ds_dist=ds_dist,\n",
    "    r=15,\n",
    "    thresh_median_P=-1.4,\n",
    "    thresh_median_PL=-0.7,\n",
    "    min_links=3,\n",
    ")"
   ]
  },
  {
   "cell_type": "markdown",
   "id": "abf0da0f-1e9a-496e-9cb7-b770aa65a910",
   "metadata": {},
   "source": [
    "#### Exercise 3\n",
    "Plot instantaneous data, pmin, maxpmin, deltaP, delta_PL and the rain event detection for several CMLs and the period from 13. - 15. May 2023."
   ]
  },
  {
   "cell_type": "code",
   "execution_count": null,
   "id": "fed04de2-682d-41e0-83e3-b832dd68ec16",
   "metadata": {},
   "outputs": [],
   "source": [
    "# your solution\n"
   ]
  },
  {
   "cell_type": "code",
   "execution_count": null,
   "id": "96e388a3-ea97-49fc-b05e-bffcd7a80c66",
   "metadata": {},
   "outputs": [],
   "source": [
    "if input(\"Enter 'Solution' to display solutions: \")=='Solution':\n",
    "    %load hints_solutions/2_3_solution.py"
   ]
  },
  {
   "cell_type": "markdown",
   "id": "d799ce80-a542-4e65-9ea4-7d7bbb6aa363",
   "metadata": {},
   "source": [
    "## Rainfall retrival"
   ]
  },
  {
   "cell_type": "markdown",
   "id": "553274e6-78a7-49b8-83f3-9f0d177475f0",
   "metadata": {},
   "source": [
    "#### Baseline estimation (pref)\n",
    "Median over the dry time steps from the previous 24 hours"
   ]
  },
  {
   "cell_type": "code",
   "execution_count": null,
   "id": "56a2a986-7b87-4112-ba3c-bda8a6132593",
   "metadata": {},
   "outputs": [],
   "source": [
    "pref = nearby_rain.nearby_determine_reference_level(wet, pmin)"
   ]
  },
  {
   "cell_type": "code",
   "execution_count": null,
   "id": "5911bdf7-6759-47f3-a376-e1050bd0ed8e",
   "metadata": {},
   "outputs": [],
   "source": [
    "t_start, t_end = \"2018-05-13\", \"2018-05-15\"\n",
    "for cmlid in [\"5\"]:\n",
    "    pmin.sel(cml_id=cmlid, time=slice(t_start, t_end)).isel(\n",
    "        channel_id=0\n",
    "    ).plot(figsize=(10, 4),label=\"pmin\",)\n",
    "    pref.sel(cml_id=cmlid, time=slice(t_start, t_end)).isel(\n",
    "        channel_id=0\n",
    "    ).plot(label=\"pref\")\n",
    "    (\n",
    "        (\n",
    "            wet.isel(channel_id=0)\n",
    "            .sel(cml_id=cmlid, time=slice(t_start, t_end))\n",
    "            * 50\n",
    "        )\n",
    "        - 100\n",
    "    ).plot(label=\"wet\", alpha=0.5)\n",
    "plt.legend();"
   ]
  },
  {
   "cell_type": "markdown",
   "id": "1de52f77-15b1-4835-b5a3-6429f81d5696",
   "metadata": {},
   "source": [
    "#### Correction of pmin and pmax\n",
    "To prevent rainfall estimates during dry intervals, a corrected minimum (P_c_min) and maximum (p_c_max) received power is calculated by adjusting the signals to the baseline (pref) for dry intervals.\n",
    "  \n",
    "Note that pmax data should be used here if available. If no pmax data is available, pmin will be used for both cases instead.  \n",
    "\n",
    "for pmin:  \n",
    "*If (pmin < pref) & (wet == 1) --> p_c_min = pmin, otherwise p_c_min = pref*  \n",
    "for pmax:  \n",
    "*if p_c_min < pref & pmin < pref --> p_c_max = pmax, otherwise p_c_max = pref*\n"
   ]
  },
  {
   "cell_type": "code",
   "execution_count": null,
   "id": "ac23c4bf-8e09-410b-b037-4f028b4cfa5a",
   "metadata": {},
   "outputs": [],
   "source": [
    "p_c_min, p_c_max = nearby_rain.nearby_correct_recieved_signals(\n",
    "            pmin, wet, pref)"
   ]
  },
  {
   "cell_type": "markdown",
   "id": "daf73cf6-bfcc-430d-9a18-19778036be6b",
   "metadata": {},
   "source": [
    "#### Calculate rain rates from attenuation data \n",
    "* Calculatating minimum and maximum rain-induced attenuation\n",
    "* retrieve rainfall intensities\n",
    "* correcting for wet antenna attenuation \n",
    "* weighted mean path averaged rainfall intensity: setting the alpha value which defines how close to the minimum attenuation of each intervall the rain rate should be set\n",
    "* using the F-score (F) for outlier detection"
   ]
  },
  {
   "cell_type": "code",
   "execution_count": null,
   "id": "c8f5a0ad-666b-4ecb-a874-ab185c3b7223",
   "metadata": {},
   "outputs": [],
   "source": [
    "R = nearby_rain.nearby_rainfall_retrival(\n",
    "    pref,\n",
    "    p_c_min,\n",
    "    p_c_max,\n",
    "    F,\n",
    "    length=pmin.length,\n",
    "    f_GHz=pmin.frequency/1e9,\n",
    "    pol=pmin.polarization,\n",
    "    waa_max=2.3,\n",
    "    alpha=0.99,\n",
    "    F_value_correction=True)"
   ]
  },
  {
   "cell_type": "markdown",
   "id": "2d205827-b3bb-4543-a2d0-95d9cd7b8b09",
   "metadata": {},
   "source": [
    "#### Compare derived rain rates with reference data\n",
    "As reference, path-averaged rain rates along the CMLs paths from RADKLIM-YW are provided. This data has a temporal resolution of 5 minutes and is resampled to 15 minute rainfall intensities. Here CML timeseries are compared individually against reference timeseries. "
   ]
  },
  {
   "cell_type": "code",
   "execution_count": null,
   "id": "faa86957-0878-4bae-88a8-68e54d23ea29",
   "metadata": {},
   "outputs": [],
   "source": [
    "path_ref = xr.open_dataset(data_path + '/example_path_averaged_reference_data.nc')"
   ]
  },
  {
   "cell_type": "code",
   "execution_count": null,
   "id": "d0a50379-5bcf-4807-855e-32f51bcf9e70",
   "metadata": {},
   "outputs": [],
   "source": [
    "for i in [\"0\", \"12\", \"57\"]:\n",
    "#for i in [\"12\"]:\n",
    "    # Plot reference rainfall amount (converted to 15-minute rainfall rate)\n",
    "    (path_ref.sel(cml_id=i).rainfall_amount.resample(time='15min').sum() * 12).plot(\n",
    "        label=\"RADKLIM_YW\", color='C3', figsize=(12,3)\n",
    "    )\n",
    "    # Plot 15-minute mean rainfall rates from CMLs\n",
    "    (R.sel(cml_id=i,channel_id=\"channel_1\")).plot(\n",
    "        x=\"time\", label=\"CML_nearby\", color='C0'\n",
    "    )\n",
    "    \n",
    "    plt.xlim(np.datetime64('2018-05-13'), np.datetime64('2018-05-15'))\n",
    "    plt.ylabel('5-min rainfall rate (mm/h)')\n",
    "    plt.legend();"
   ]
  },
  {
   "cell_type": "markdown",
   "id": "ddd3578e-d4de-4262-a277-48da81890420",
   "metadata": {},
   "source": [
    "#### Exercise 4\n",
    "Discuss what influence the wet antenna attenuation and the scaling factor alpha have e.g. when plotting the time series from above. Check your assumptions by recalculating the rain rates and checking the differences against the references,"
   ]
  },
  {
   "cell_type": "code",
   "execution_count": null,
   "id": "b1d756a5-bfe3-4159-a2e3-65e3db5d667d",
   "metadata": {},
   "outputs": [],
   "source": [
    "# your solution:\n"
   ]
  },
  {
   "cell_type": "code",
   "execution_count": null,
   "id": "981dce62-e4a9-418b-8994-5f40baa342b9",
   "metadata": {},
   "outputs": [],
   "source": [
    "if input(\"Enter 'Solution' to display solutions: \")=='Solution':\n",
    "    %load hints_solutions/2_4_solution.py"
   ]
  },
  {
   "cell_type": "markdown",
   "id": "291d7494-7846-4a9a-8419-2403d0ab4760",
   "metadata": {},
   "source": [
    "#### Exercise 5\n",
    "Test several different radii r and how they affect the rainrate from CMLs. Discuss what implications different types of rainfall regimes might have on the used radius r."
   ]
  },
  {
   "cell_type": "code",
   "execution_count": null,
   "id": "30360c26-d523-4eb4-beae-d7bacfb54ac4",
   "metadata": {},
   "outputs": [],
   "source": [
    "# your solution:\n"
   ]
  },
  {
   "cell_type": "code",
   "execution_count": null,
   "id": "87b0701a-4edd-422c-a9d6-229bc11534d0",
   "metadata": {},
   "outputs": [],
   "source": [
    "if input(\"Enter 'Solution' to display solutions: \")=='Solution':\n",
    "    %load hints_solutions/2_5_solution.py"
   ]
  }
 ],
 "metadata": {
  "kernelspec": {
   "display_name": "Python 3 (ipykernel)",
   "language": "python",
   "name": "python3"
  },
  "language_info": {
   "codemirror_mode": {
    "name": "ipython",
    "version": 3
   },
   "file_extension": ".py",
   "mimetype": "text/x-python",
   "name": "python",
   "nbconvert_exporter": "python",
   "pygments_lexer": "ipython3",
   "version": "3.10.12"
  }
 },
 "nbformat": 4,
 "nbformat_minor": 5
}
