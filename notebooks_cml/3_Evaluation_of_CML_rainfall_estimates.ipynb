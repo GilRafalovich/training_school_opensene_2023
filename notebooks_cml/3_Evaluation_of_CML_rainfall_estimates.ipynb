{
 "cells": [
  {
   "cell_type": "markdown",
   "id": "1bf4d647-b5ee-46a2-8f76-c6c8763e9532",
   "metadata": {},
   "source": [
    "# **Evaluation of CML data - From processing one CML to evaluating many CMLs**\n",
    "___\n",
    "<img src=\"https://hess.copernicus.org/articles/24/2931/2020/hess-24-2931-2020-f06-web.png\" alt=\"drawing\" width=\"1300\"/>"
   ]
  },
  {
   "cell_type": "markdown",
   "id": "5c282b78-b884-42d3-a47b-1a9bc2d81418",
   "metadata": {},
   "source": [
    "Evaluation of rainfall estiamtes from one year of CML data in Germany against RADOLAN-RW, a gauge ajdusted radar product from the German Weaterh Service for three temporal aggregatins [Graf et al. 2020](https://hess.copernicus.org/articles/24/2931/2020/).     \n",
    "\n",
    "___  \n",
    "\n",
    "Maximilian Graf & Erlend Oydvin\n",
    "___\n",
    "University of Augsburg & Norwegian University of Life Sciences"
   ]
  },
  {
   "cell_type": "code",
   "execution_count": null,
   "id": "bb733d2c-d41c-464f-bee1-e84bdb617762",
   "metadata": {},
   "outputs": [],
   "source": [
    "%load_ext autoreload\n",
    "%autoreload 2\n",
    "%matplotlib inline\n",
    "\n",
    "import xarray as xr\n",
    "import matplotlib.pyplot as plt\n",
    "import numpy as np\n",
    "import tqdm\n",
    "\n",
    "import pycomlink as pycml"
   ]
  },
  {
   "cell_type": "markdown",
   "id": "187c1ade-2761-4b3f-8266-627bb2a054cb",
   "metadata": {},
   "source": [
    "## 1. Process many CMLs with a time series-based approach"
   ]
  },
  {
   "cell_type": "code",
   "execution_count": null,
   "id": "452bb9b1-c14f-4e4b-a86e-566de5bba6e6",
   "metadata": {},
   "outputs": [],
   "source": [
    "# load dataset with hundreds of CMLs\n",
    "cmls = xr.open_dataset(\".././data/cml/openMRG_example.nc\").load()\n",
    "cmls"
   ]
  },
  {
   "cell_type": "code",
   "execution_count": null,
   "id": "dbff162c-ed7f-44c5-8f64-7ca50976ae1b",
   "metadata": {},
   "outputs": [],
   "source": [
    "# calculate total loss\n",
    "cmls[\"tl\"] = cmls.tsl - cmls.rsl\n",
    "\n",
    "# seperate periods of rain from dry time steps\n",
    "cmls[\"wet\"] = cmls.tl.rolling(time=60, center=True).std(skipna=False) > 0.4\n",
    "\n",
    "# estiamte the baseline during rain events\n",
    "cmls[\"baseline\"] = pycml.processing.baseline.baseline_constant(\n",
    "    trsl=cmls.tl,\n",
    "    wet=cmls.wet,\n",
    "    n_average_last_dry=5,\n",
    ")\n",
    "\n",
    "# compensate for wet antenna attenuation\n",
    "cmls[\"waa\"] = pycml.processing.wet_antenna.waa_schleiss_2013(\n",
    "    rsl=cmls.tl,\n",
    "    baseline=cmls.baseline,\n",
    "    wet=cmls.wet,\n",
    "    waa_max=2.2,\n",
    "    delta_t=1,\n",
    "    tau=15,\n",
    ")\n",
    "\n",
    "# calculate attenuation caused by rain and remove negative attenuation\n",
    "cmls[\"A\"] = cmls.tl - cmls.baseline - cmls.waa\n",
    "cmls[\"A\"].values[cmls.A < 0] = 0\n",
    "\n",
    "# derive rain rate via the k-R relation\n",
    "cmls[\"R\"] = pycml.processing.k_R_relation.calc_R_from_A(\n",
    "    A=cmls.A,\n",
    "    L_km=cmls.length.astype(float) / 1000,  # convert to km\n",
    "    f_GHz=cmls.frequency / 1000,  # convert to GHz\n",
    "    pol=cmls.polarization,\n",
    ")"
   ]
  },
  {
   "cell_type": "code",
   "execution_count": null,
   "id": "cdf79c4b-de0d-4c54-af18-4840c4d36245",
   "metadata": {},
   "outputs": [],
   "source": [
    "cmls"
   ]
  },
  {
   "cell_type": "code",
   "execution_count": null,
   "id": "7dcd3724-fb61-43d6-bb57-f12e7e4a3465",
   "metadata": {},
   "outputs": [],
   "source": [
    "cmls = cmls.isel(sublink_id=0)"
   ]
  },
  {
   "cell_type": "markdown",
   "id": "6dcf291b-9a87-410f-9db0-5444906592f7",
   "metadata": {},
   "source": [
    "## 2. Link based evaluation and performance metrics"
   ]
  },
  {
   "cell_type": "markdown",
   "id": "d75f4b3e-7505-4430-be5e-f139ec4718b3",
   "metadata": {},
   "source": [
    "As reference, path-averaged rain rates along the CMLs paths from RADKLIM-YW are provided. This data has a temporal resolution of 5 minutes. First, we compare one CML timeseries aggregated to five minutes individually against its reference timeseries. Then we resample all cml data und prepare a scatterplot between CML and reference data. Finally some metrics are claculated. (for simplicity only channel 1 is evaluated here)"
   ]
  },
  {
   "cell_type": "code",
   "execution_count": null,
   "id": "334d137d-4624-4c51-bcd3-09219fd3d97b",
   "metadata": {},
   "outputs": [],
   "source": [
    "# load reference data\n",
    "ds_radar = xr.open_dataset(\".././data/cml/openMRG_example_rad.nc\")\n",
    "ds_radar"
   ]
  },
  {
   "cell_type": "code",
   "execution_count": null,
   "id": "95f2e214-ebeb-4b61-be5f-3db0174552e8",
   "metadata": {},
   "outputs": [],
   "source": [
    "ds_radar.R.sel(time=slice(\"2015-08-27T01:00:00\", \"2015-08-27T02:35:00\")).plot(\n",
    "    x=\"x\", y=\"y\", col=\"time\", col_wrap=5, cmap=\"YlGnBu\", levels=10,\n",
    ");"
   ]
  },
  {
   "cell_type": "code",
   "execution_count": null,
   "id": "c210bb92-9a0d-4615-bd73-0fc173b3c388",
   "metadata": {},
   "outputs": [],
   "source": [
    "import pyproj\n",
    "\n",
    "# get a x and y grid from x and y data\n",
    "x_grid, y_grid = np.meshgrid(ds_radar.x.values, ds_radar.y.values)\n",
    "\n",
    "# transform original radar projction to WGS84 (EPSG:4326)\n",
    "transformer = pyproj.Transformer.from_crs(\n",
    "    \"+proj=stere +lat_ts=60 +ellps=bessel +lon_0=14 +lat_0=90\",\n",
    "    \"EPSG:4326\",\n",
    "    always_xy=True,\n",
    ")\n",
    "lon_grid, lat_grid = transformer.transform(xx=x_grid, yy=y_grid)\n",
    "\n",
    "# add the lon and lat grid as coordinates to the radar dataset\n",
    "ds_radar.coords[\"lon\"] = ((\"y\", \"x\"), lon_grid)\n",
    "ds_radar.coords[\"lat\"] = ((\"y\", \"x\"), lat_grid)"
   ]
  },
  {
   "cell_type": "code",
   "execution_count": null,
   "id": "196f168e-71bc-422b-9368-5288a07dd672",
   "metadata": {},
   "outputs": [],
   "source": [
    "# map of rainfall sum over all time steps\n",
    "ds_radar.R.resample(time=\"1H\").mean().sum(dim=\"time\").plot.pcolormesh(\n",
    "    x=\"lon\", y=\"lat\", cmap=\"YlGnBu\"\n",
    ")\n",
    "for lon1, lat1, lon2, lat2 in zip(\n",
    "    cmls.site_0_lon, cmls.site_0_lat, cmls.site_1_lon, cmls.site_1_lat\n",
    "):\n",
    "    plt.plot([lon1, lon2], [lat1, lat2], \"-\", c=\"black\", alpha=0.5)\n"
   ]
  },
  {
   "cell_type": "markdown",
   "id": "7ab5fffa-7014-4c09-8fdd-2f131588cb55",
   "metadata": {},
   "source": [
    "### Radar along CML path"
   ]
  },
  {
   "cell_type": "markdown",
   "id": "b90f108e-89fc-4a4c-930e-2126a329c17f",
   "metadata": {},
   "source": [
    "<img src=\"./hints_solutions/radar_along_cml.png\" style=\"height: 200px;\"/>\n"
   ]
  },
  {
   "cell_type": "code",
   "execution_count": null,
   "id": "39354690-5fd2-4ae5-8ea1-05f5eed23a3f",
   "metadata": {},
   "outputs": [],
   "source": [
    "# calculate the intersection weights with a sparse matrix\n",
    "da_intersect_weights = pycml.spatial.grid_intersection.calc_sparse_intersect_weights_for_several_cmls(\n",
    "    x1_line=cmls.site_0_lon.values,\n",
    "    y1_line=cmls.site_0_lat.values,\n",
    "    x2_line=cmls.site_1_lon.values,\n",
    "    y2_line=cmls.site_1_lat.values,\n",
    "    cml_id=cmls.cml_id.values,\n",
    "    x_grid=ds_radar.lon.values,\n",
    "    y_grid=ds_radar.lat.values,\n",
    "    grid_point_location='center',\n",
    ")"
   ]
  },
  {
   "cell_type": "code",
   "execution_count": null,
   "id": "f5f6c9b6-5bdd-46ae-9a87-1961f66fcfc6",
   "metadata": {},
   "outputs": [],
   "source": [
    "# get the radar values along the CMLs weighted with the intersection weights\n",
    "da_radar_along_cmls = (\n",
    "    pycml.spatial.grid_intersection.get_grid_time_series_at_intersections(\n",
    "        grid_data=ds_radar.R,\n",
    "        intersect_weights=da_intersect_weights,\n",
    "    )\n",
    ")"
   ]
  },
  {
   "cell_type": "markdown",
   "id": "be03eb66-a5af-4269-916f-cb8a4f16a0bf",
   "metadata": {},
   "source": [
    "There is [an example notebook](https://github.com/pycomlink/pycomlink/blob/master/notebooks/Get%20radar%20rainfall%20along%20CML%20paths.ipynb) within pycomlink describing the grid intersection step wise.\n"
   ]
  },
  {
   "cell_type": "code",
   "execution_count": null,
   "id": "5ef55d06-8f8d-4657-8b7a-b992846a95ac",
   "metadata": {},
   "outputs": [],
   "source": [
    "# plot one CML and its radar reference as 1 and 5 minute rainfall intensities\n",
    "(cmls.sel(cml_id=10222).R).plot(\n",
    "    x=\"time\",\n",
    "    figsize=(16, 3),\n",
    "    label=\"CML 1-minute rainfall intensities\",\n",
    "    color=\"darkblue\",\n",
    "    alpha=0.5,\n",
    "    add_legend=True,\n",
    ")\n",
    "\n",
    "da_radar_along_cmls.sel(cml_id=10222).plot(\n",
    "    alpha=0.75, label=\"Radar along CML 5-minute rainfall intensities\", color=\"green\"\n",
    ")\n",
    "plt.legend()\n",
    "\n",
    "# .. and as hourly rainfall sums\n",
    "(cmls.sel(cml_id=10222).R.resample(time=\"60min\").mean()).plot(\n",
    "    x=\"time\",\n",
    "    figsize=(16, 3),\n",
    "    label=\"CML 1h rainfall sum\",\n",
    "    color=\"darkblue\",\n",
    "    alpha=0.5,\n",
    "    add_legend=True,\n",
    ")\n",
    "\n",
    "da_radar_along_cmls.resample(time=\"60min\").mean().sel(cml_id=10222).plot(\n",
    "    alpha=0.75, label=\"Radar along CML 1h rainfall sum\", color=\"green\"\n",
    ")\n",
    "plt.legend();"
   ]
  },
  {
   "cell_type": "markdown",
   "id": "f7ccda50-e32a-4c27-9508-e36b61d47c34",
   "metadata": {},
   "source": [
    "##### Q: How to compare the CML rainfall estiamtes with the radar reference (along the CML paths)?\n",
    "* scatter plots\n",
    "* metrics "
   ]
  },
  {
   "cell_type": "markdown",
   "id": "df67c427-b959-4218-ba94-d7c80e424c61",
   "metadata": {},
   "source": [
    "## 3. Preparation of the CML data"
   ]
  },
  {
   "cell_type": "markdown",
   "id": "06b2487d-f1e3-4034-a459-3f98cf919c56",
   "metadata": {},
   "source": [
    "### Exercise 1\n",
    "Resample the CML rainfall estimates to 5-minute rainfall intensities."
   ]
  },
  {
   "cell_type": "code",
   "execution_count": null,
   "id": "afdb8f48-4292-4402-99e8-523ac8299263",
   "metadata": {},
   "outputs": [],
   "source": [
    "# enter you solution\n"
   ]
  },
  {
   "cell_type": "code",
   "execution_count": null,
   "id": "85d840f7-123e-4346-975e-7ebf4865f3d1",
   "metadata": {},
   "outputs": [],
   "source": [
    "if input(\"Enter 'Solution' to display solutions: \")=='Solution':\n",
    "    %load hints_solutions/3_1_solution.py"
   ]
  },
  {
   "cell_type": "markdown",
   "id": "f3e05637-76f3-4089-85cf-2688169db2e1",
   "metadata": {},
   "source": [
    "### Exercise 2\n",
    "Compare the mean rainfall initensity over all CMLs and radar along CMLs at this 5-minute resolution\n"
   ]
  },
  {
   "cell_type": "code",
   "execution_count": null,
   "id": "25b6a92e-3da8-404e-b003-f345995e4246",
   "metadata": {},
   "outputs": [],
   "source": [
    "# enter your solution\n"
   ]
  },
  {
   "cell_type": "code",
   "execution_count": null,
   "id": "fe516dbd-1dc5-4adb-95de-daf82ac2363a",
   "metadata": {},
   "outputs": [],
   "source": [
    "if input(\"Enter 'Solution' to display solutions: \")=='Solution':\n",
    "    %load hints_solutions/3_2_solution.py"
   ]
  },
  {
   "cell_type": "markdown",
   "id": "214c097b-d754-434e-9cb4-c4ceae488ecb",
   "metadata": {},
   "source": [
    "### Scatterplots"
   ]
  },
  {
   "cell_type": "code",
   "execution_count": null,
   "id": "d3eb04c3-863c-4957-94ac-ff5901dec7c9",
   "metadata": {},
   "outputs": [],
   "source": [
    "fig, ax = plt.subplots(figsize=(4, 3.5))\n",
    "hx = ax.hexbin(\n",
    "    cmls_5min.sel(time=da_radar_along_cmls.time).values.T.flatten(),\n",
    "    da_radar_along_cmls.values.flatten(),\n",
    "    mincnt=1,\n",
    "    bins=\"log\",\n",
    "    gridsize=45,\n",
    "    extent=(0, 100, 0, 100),\n",
    ")\n",
    "ax.plot([0,100],[0,100],'--',color='black',alpha=.5)\n",
    "ax.set_xlabel(\"CML 5-minute rainfall intensity\")\n",
    "ax.set_ylabel(\"Radar along CML 5-minute rainfall intensity\")\n",
    "cbar = fig.colorbar(hx)\n",
    "cbar.set_label(\"count\")"
   ]
  },
  {
   "cell_type": "code",
   "execution_count": null,
   "id": "ec5eb6f9-4dfa-4270-aef4-f381b07babdf",
   "metadata": {},
   "outputs": [],
   "source": [
    "fig, ax = plt.subplots(figsize=(4, 3.5))\n",
    "hx = ax.hexbin(\n",
    "    cmls_5min.sel(time=da_radar_along_cmls.time).resample(time=\"60min\").mean().values.T.flatten(),\n",
    "    da_radar_along_cmls.resample(time=\"60min\").mean().values.flatten(),\n",
    "    mincnt=1,\n",
    "    bins=\"log\",\n",
    "    gridsize=45,\n",
    "    extent=(0, 12, 0, 12),\n",
    ")\n",
    "ax.plot([0,12],[0,12],'--',color='black',alpha=.5)\n",
    "ax.set_xlabel(\"CML 1h sums (mm)\")\n",
    "ax.set_ylabel(\"Radar along CML 1h sums (mm)\")\n",
    "cbar = fig.colorbar(hx)\n",
    "cbar.set_label(\"count\")"
   ]
  },
  {
   "cell_type": "markdown",
   "id": "c7a9cc63-da75-45e4-9df4-44ee88372790",
   "metadata": {},
   "source": [
    "### Performance metrics"
   ]
  },
  {
   "cell_type": "code",
   "execution_count": null,
   "id": "80e07251-076b-4fc3-b45d-4387c4f906da",
   "metadata": {},
   "outputs": [],
   "source": [
    "error_stats = pycml.validation.stats.calc_rain_error_performance_metrics(\n",
    "    cmls_5min.sel(time=da_radar_along_cmls.time).values.T.flatten(),\n",
    "    da_radar_along_cmls.values.flatten(),\n",
    "    rainfall_threshold_wet=0.1,\n",
    ")"
   ]
  },
  {
   "cell_type": "code",
   "execution_count": null,
   "id": "6f797668-71b8-4e98-a731-40667a8d9097",
   "metadata": {},
   "outputs": [],
   "source": [
    "for stat, field in zip(error_stats, error_stats._fields):\n",
    "    print(field, stat)"
   ]
  },
  {
   "cell_type": "code",
   "execution_count": null,
   "id": "fd0871ad-cee8-4a18-a180-2aa63c6e0a22",
   "metadata": {},
   "outputs": [],
   "source": [
    "error_stats = pycml.validation.stats.calc_rain_error_performance_metrics(\n",
    "    cmls_5min.sel(time=da_radar_along_cmls.time).resample(time=\"60min\").mean().values.T.flatten(),\n",
    "    da_radar_along_cmls.resample(time=\"60min\").mean().values.flatten(),\n",
    "    rainfall_threshold_wet=0.1,\n",
    ")\n",
    "for stat, field in zip(error_stats, error_stats._fields):\n",
    "    print(field, stat)"
   ]
  },
  {
   "cell_type": "markdown",
   "id": "7df0483f-868b-49aa-a148-8ddc2860797b",
   "metadata": {},
   "source": [
    "### Optional Exercise 3\n",
    "Change the threshold in the rain event detection to values between 0.1 and 3. What do you expect? How do the metrics change?  \n",
    "\n",
    "Hint: rain event detection step in the processing:   \n",
    "`cmls[\"wet\"] = cmls.tl.rolling(time=60, center=True).std(skipna=False) > 0.4`"
   ]
  },
  {
   "cell_type": "code",
   "execution_count": null,
   "id": "1d5fd482-a3a1-4ebe-bebe-f76da36766f3",
   "metadata": {},
   "outputs": [],
   "source": [
    "# enter your solution\n"
   ]
  },
  {
   "cell_type": "code",
   "execution_count": null,
   "id": "224c70ba-0ede-4c3a-8429-1b9578460ea3",
   "metadata": {},
   "outputs": [],
   "source": [
    "if input(\"Enter 'Solution' to display solutions: \")=='Solution':\n",
    "    %load hints_solutions/3_3_solution.py"
   ]
  }
 ],
 "metadata": {
  "kernelspec": {
   "display_name": "Python 3 (ipykernel)",
   "language": "python",
   "name": "python3"
  },
  "language_info": {
   "codemirror_mode": {
    "name": "ipython",
    "version": 3
   },
   "file_extension": ".py",
   "mimetype": "text/x-python",
   "name": "python",
   "nbconvert_exporter": "python",
   "pygments_lexer": "ipython3",
   "version": "3.10.12"
  }
 },
 "nbformat": 4,
 "nbformat_minor": 5
}
