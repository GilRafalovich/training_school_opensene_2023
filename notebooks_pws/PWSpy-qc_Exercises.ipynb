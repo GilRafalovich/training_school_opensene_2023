{
 "cells": [
  {
   "cell_type": "markdown",
   "metadata": {
    "slideshow": {
     "slide_type": "slide"
    }
   },
   "source": [
    "## Basic PWS data processing using PWSpy-qc \n",
    "___\n",
    "\n",
    "\n",
    "<img src=\"./pics/title.png\" alt=\"drawing\" width=\"8000\"/>\n",
    "\n",
    "**Jochen Seidel**, Abbas El Hachem, Micha Eisele, András Bárdossy\n",
    "___\n",
    "University of Stuttgart"
   ]
  },
  {
   "cell_type": "markdown",
   "metadata": {
    "slideshow": {
     "slide_type": "subslide"
    }
   },
   "source": [
    "## How does a (Netatmo) PWS work? \n",
    "\n",
    "<img src=\"./pics/PWS.png\" alt=\"drawing\" width=\"800\"/>"
   ]
  },
  {
   "cell_type": "markdown",
   "metadata": {
    "slideshow": {
     "slide_type": "subslide"
    }
   },
   "source": [
    "## Why is it not advisable to use raw PWS data? Some typical (Netatmo) PWS errors:\n"
   ]
  },
  {
   "cell_type": "markdown",
   "metadata": {
    "slideshow": {
     "slide_type": "fragment"
    },
    "tags": []
   },
   "source": [
    "### Many PWS are not installed/setup according to WMO standards\n",
    "\n",
    "<img src=\"./pics/PWS_setup.png\" alt=\"drawing\" width=\"800\"/>"
   ]
  },
  {
   "cell_type": "markdown",
   "metadata": {
    "slideshow": {
     "slide_type": "subslide"
    },
    "tags": []
   },
   "source": [
    "### Incorrect information about the location\n",
    "\n",
    "<img src=\"./pics/PWS_movements.png\" alt=\"PWS on the move\" width=\"800\"/>"
   ]
  },
  {
   "cell_type": "markdown",
   "metadata": {
    "slideshow": {
     "slide_type": "subslide"
    },
    "tags": []
   },
   "source": [
    "### Incorrect information about the location - \"hot spots\"\n",
    "\n",
    "<img src=\"./pics/PWS_hotspots.png\" alt=\"PWS on the move\" width=\"1000\"/>"
   ]
  },
  {
   "cell_type": "markdown",
   "metadata": {
    "slideshow": {
     "slide_type": "subslide"
    }
   },
   "source": [
    "### Data gaps and peaks\n",
    "\n",
    "<img src=\"./pics/PWS_gaps.png\" alt=\"PWS on the move\" width=\"1000\"/>"
   ]
  },
  {
   "cell_type": "markdown",
   "metadata": {
    "slideshow": {
     "slide_type": "fragment"
    }
   },
   "source": [
    "## The Bottom Line\n",
    "### Due to the numerous potential errors sources the data from  Netatmo-PWS have to be QC and filtered! \n",
    "\n",
    "Overview of the three QC algorithms in [El Hachem et al. 2023](https://hess.copernicus.org/preprints/hess-2023-195/)"
   ]
  },
  {
   "cell_type": "markdown",
   "metadata": {
    "slideshow": {
     "slide_type": "slide"
    }
   },
   "source": [
    "## 1. Loading PWS and auxilliary data (primary stations)"
   ]
  },
  {
   "cell_type": "markdown",
   "metadata": {
    "slideshow": {
     "slide_type": "-"
    }
   },
   "source": [
    "**Goal**: Load PWS and auxilliary data stored as csv as an `pandas.DataFrame` object and visualize the data"
   ]
  },
  {
   "cell_type": "markdown",
   "metadata": {
    "slideshow": {
     "slide_type": "subslide"
    }
   },
   "source": [
    "### 1.0 Import packages and adjust settings"
   ]
  },
  {
   "cell_type": "code",
   "execution_count": null,
   "metadata": {
    "slideshow": {
     "slide_type": "-"
    }
   },
   "outputs": [],
   "source": [
    "%load_ext autoreload\n",
    "%autoreload 2\n",
    "%matplotlib inline\n",
    "\n",
    "import xarray as xr\n",
    "xr.set_options(display_style='text'); # Show xarray.Dataset representation as text\n",
    "\n",
    "#import pycomlink as pycml\n",
    "\n",
    "import matplotlib.pyplot as plt\n",
    "plt.rcParams.update({'font.size': 10}) # Set plot font size to 16pt\n",
    "\n",
    "import numpy as np\n",
    "import time\n",
    "from scipy.spatial import cKDTree\n",
    "from pykrige import OrdinaryKriging as OKpy\n",
    "import tqdm\n",
    "import os\n",
    "import pandas as pd\n",
    "import matplotlib as mpl\n",
    "\n",
    "# OPENSENSE Sandbox tools \n",
    "# ToDo: Set link from local to github\n",
    "import PWSpyqcFunctions as pyqc\n",
    "import pycomlink as pycml\n",
    "\n",
    "# Relative path to the data directory\n",
    "main_dir = r\".././data/pws/\"\n"
   ]
  },
  {
   "cell_type": "markdown",
   "metadata": {
    "slideshow": {
     "slide_type": "skip"
    }
   },
   "source": [
    "`PWSpy-qc` specific settings "
   ]
  },
  {
   "cell_type": "code",
   "execution_count": null,
   "metadata": {},
   "outputs": [],
   "source": [
    "# maximun distance (meters) for which the indicator correlation is calculated\n",
    "max_distance = 50000\n",
    "\n",
    "# Precentile threshold for indicator correlation \n",
    "prob=0.99\n",
    "\n",
    "# todo: chekc if and where this is needed\n",
    "show_plot = True\n",
    "\n",
    "# minimum number of records (in hours) with values (here 2 months)\n",
    "min_req_ppt_vals = 2*30*24 "
   ]
  },
  {
   "cell_type": "markdown",
   "metadata": {
    "slideshow": {
     "slide_type": "subslide"
    }
   },
   "source": [
    "## 1.1 Load the csv data files"
   ]
  },
  {
   "cell_type": "code",
   "execution_count": null,
   "metadata": {},
   "outputs": [],
   "source": [
    "# Automatic weather satation data from KNMI Netherlands\n",
    "path_primary_network = os.path.join(main_dir, r\"data_AWS_stns_data.csv\")\n",
    "path_primary_metadata = os.path.join(main_dir, r\"data_AWS_stns_coords.csv\")   \n",
    "\n",
    "# Data from 20 randomly chose radar grid cells as \"primary stations 2\" for the Amsterdam area\n",
    "path_primary_network2 = os.path.join(main_dir, r\"data_Radar_grid_cell_vals.csv\")\n",
    "path_primary_metadata2 = os.path.join(main_dir, r\"data_selected_radar_grid_lonlat.csv\") \n",
    "\n",
    "\n",
    "# PWS hourly data ()\n",
    "path_pws_data = os.path.join(main_dir, r\"data_AMS_PWS_hourly_shifted.csv\")   \n",
    "path_pws_metadata = os.path.join(main_dir, r\"data_AMS_metadata.csv\")"
   ]
  },
  {
   "cell_type": "markdown",
   "metadata": {
    "slideshow": {
     "slide_type": "fragment"
    },
    "tags": []
   },
   "source": [
    "**&#8594;** each datasets consists of a metafile with coordinates and a data file with stations as columns and timestamps as rows (c.f. OPENSENSE White Paper)\n",
    "\n",
    "**&#8594;** the Netatmo PWS data set used here is published by de [Vos (2019)](https://data.4tu.nl/articles/_/12703250/1)\n",
    "\n",
    "**&#8594;** `pyqc.read_pcp_csv_file` and `read_metadata_csv_file` in the following code are functions based on `pandas.DataFrame` \n",
    "\n",
    "If you are familiar with python functions you can have a look at the file **PWSpyqcFunctions.py**"
   ]
  },
  {
   "cell_type": "code",
   "execution_count": null,
   "metadata": {
    "slideshow": {
     "slide_type": ""
    },
    "tags": []
   },
   "outputs": [],
   "source": [
    "# read primary network 1\n",
    "print('Reading first primary network data')\n",
    "# pyqc.read_pcp_csv_file has 'latin-1' encoding in PWSpyqcFunctions.py\n",
    "in_primary_pcp = pyqc.read_pcp_csv_file(path_to_file=path_primary_network,\n",
    "                           sep_type=';',\n",
    "                           index_col=0)\n",
    "\n",
    "# pyqc uses EPSG:25832, for Netherlands EPSG:28531 is used!\n",
    "# Reads coordinate file and additionally coverts Lat/Lon to UTM 32\n",
    "df_prim_coords, prim_coords_xy = pyqc.read_metadata_csv_file(path_primary_metadata,\n",
    "                                                           sep_type=';', index_col=0,)\n",
    "df_prim_coords.index = in_primary_pcp.columns\n",
    "# read primary network 2\n",
    "print('Reading secondary primary network data')\n",
    "in_primary_pcp_2 = pyqc.read_pcp_csv_file(path_to_file=path_primary_network2,\n",
    "                           sep_type=';',\n",
    "                           index_col=0)\n",
    "\n",
    "df_prim_coords_2, prim_coords_xy_2 = pyqc.read_metadata_csv_file(\n",
    "            path_primary_metadata2,\n",
    "            sep_type=',', index_col=0,)\n",
    "df_prim_coords_2.index = in_primary_pcp_2.columns\n",
    "\n",
    "# read pws data\n",
    "print('Reading PWS data')\n",
    "df_pws_pcp_hourly = pyqc.read_pcp_csv_file(\n",
    "        path_to_file=path_pws_data,\n",
    "                           sep_type=';',\n",
    "                           index_col=0)\n",
    "    \n",
    "df_pws_coords, pws_coords_xy = pyqc.read_metadata_csv_file(\n",
    "        path_to_file=path_pws_metadata,\n",
    "                           sep_type=',',\n",
    "                           index_col=0)\n",
    "df_pws_coords.index = df_pws_pcp_hourly.columns"
   ]
  },
  {
   "cell_type": "markdown",
   "metadata": {
    "slideshow": {
     "slide_type": "subslide"
    }
   },
   "source": [
    "## 1.2 How do the data look like?"
   ]
  },
  {
   "cell_type": "code",
   "execution_count": null,
   "metadata": {},
   "outputs": [],
   "source": [
    "# This shows the PWS data itself as described above\n",
    "df_pws_pcp_hourly"
   ]
  },
  {
   "cell_type": "code",
   "execution_count": null,
   "metadata": {
    "slideshow": {
     "slide_type": "subslide"
    },
    "tags": []
   },
   "outputs": [],
   "source": [
    "df_pws_pcp_hourly.describe()"
   ]
  },
  {
   "cell_type": "markdown",
   "metadata": {
    "slideshow": {
     "slide_type": "fragment"
    }
   },
   "source": [
    "### Questions:\n",
    "\n",
    "* What does count mean?\n",
    "* Why are all the 75% percentiles 0.0?\n",
    "* How can you display other percentiles, e.g. 0.99?"
   ]
  },
  {
   "cell_type": "markdown",
   "metadata": {
    "slideshow": {
     "slide_type": "slide"
    }
   },
   "source": [
    "## 1.3 Plotting the data"
   ]
  },
  {
   "cell_type": "markdown",
   "metadata": {},
   "source": [
    "### 1.3.1 Location of the stations"
   ]
  },
  {
   "cell_type": "code",
   "execution_count": null,
   "metadata": {},
   "outputs": [],
   "source": [
    "print('Plotting locations of all data')\n",
    "\n",
    "pyqc.plot_pws_prim_netz_loc(lon_pws=df_pws_coords.lon,\n",
    "                       lat_pws=df_pws_coords.lat,\n",
    "                      lon_prim1=df_prim_coords.lon,\n",
    "                       lat_prim1=df_prim_coords.lat,\n",
    "                      lon_prim2=df_prim_coords_2.lon,\n",
    "                       lat_prim2=df_prim_coords_2.lat)\n",
    "\n",
    "    \n"
   ]
  },
  {
   "cell_type": "code",
   "execution_count": null,
   "metadata": {
    "slideshow": {
     "slide_type": "subslide"
    }
   },
   "outputs": [],
   "source": [
    "print('Plotting locations of data in and around Amsterdam')\n",
    "\n",
    "pyqc.plot_pws_prim_netz_loc_AMS(lon_pws=df_pws_coords.lon,\n",
    "                       lat_pws=df_pws_coords.lat,\n",
    "                      lon_prim1=df_prim_coords.lon,\n",
    "                       lat_prim1=df_prim_coords.lat,\n",
    "                      lon_prim2=df_prim_coords_2.lon,\n",
    "                       lat_prim2=df_prim_coords_2.lat)"
   ]
  },
  {
   "cell_type": "markdown",
   "metadata": {
    "slideshow": {
     "slide_type": "subslide"
    }
   },
   "source": [
    "### 1.3.2 Plotting the PWS data"
   ]
  },
  {
   "cell_type": "code",
   "execution_count": null,
   "metadata": {},
   "outputs": [],
   "source": [
    "# Plotting all data in the DataFrame (combined plot with 134 stations does not really make sense...)\n",
    "df_pws_pcp_hourly.plot(legend=False, ylabel='mm')"
   ]
  },
  {
   "cell_type": "markdown",
   "metadata": {
    "slideshow": {
     "slide_type": "fragment"
    }
   },
   "source": [
    "This does not really make sense with 134 stations.\n",
    "\n",
    "+ What is the first thing we can observe here?"
   ]
  },
  {
   "cell_type": "markdown",
   "metadata": {
    "slideshow": {
     "slide_type": "slide"
    }
   },
   "source": [
    "### 1.4 Let's plot some individual stations"
   ]
  },
  {
   "cell_type": "code",
   "execution_count": null,
   "metadata": {
    "slideshow": {
     "slide_type": "subslide"
    }
   },
   "outputs": [],
   "source": [
    "# PWS station ams18\n",
    "df_pws_pcp_hourly['ams18'].plot(ylabel='mm', title='PWS ams18')\n"
   ]
  },
  {
   "cell_type": "markdown",
   "metadata": {
    "slideshow": {
     "slide_type": "fragment"
    }
   },
   "source": [
    "**&#8594;** This PWS hat a more or less continuous record (last part is missing) and looks ok at first sight"
   ]
  },
  {
   "cell_type": "code",
   "execution_count": null,
   "metadata": {
    "slideshow": {
     "slide_type": "subslide"
    }
   },
   "outputs": [],
   "source": [
    "# PWS station ams46\n",
    "df_pws_pcp_hourly['ams46'].plot(ylabel='mm', title='PWS ams46')"
   ]
  },
  {
   "cell_type": "markdown",
   "metadata": {
    "slideshow": {
     "slide_type": "fragment"
    }
   },
   "source": [
    "**&#8594;** This PWS has either low values or missing values, apparently no 0mm occur. Furthermore, this series is rather short."
   ]
  },
  {
   "cell_type": "code",
   "execution_count": null,
   "metadata": {
    "slideshow": {
     "slide_type": "subslide"
    }
   },
   "outputs": [],
   "source": [
    "# PWS station ams105\n",
    "df_pws_pcp_hourly['ams105'].plot(ylabel='mm', title='PWS ams105')"
   ]
  },
  {
   "cell_type": "markdown",
   "metadata": {
    "slideshow": {
     "slide_type": "fragment"
    }
   },
   "source": [
    "**&#8594;** This PWS has unrealstic data values and a large gap until September 2017. However, the data from September 2017 onwards seems ok."
   ]
  },
  {
   "cell_type": "markdown",
   "metadata": {
    "slideshow": {
     "slide_type": "subslide"
    },
    "tags": []
   },
   "source": [
    "### Exercises: \n",
    "\n",
    "+ Plot the data for an arbritatry PWS from the dataframe\n",
    "\n",
    "\n",
    "+ Plot the data for the 'ams105' station from Sept 2017 onwards\n",
    "\n",
    "**Hint:** For `pandas dataframes` this to simiar to slicing in `xarray`, i.e. datetimes as strings in square bracktes separated by a colon `['yyyy-mm-dd':'yyyy-mm-dd']`\n",
    "\n",
    "\n",
    "+ Remove this station's data before Sep 2017 (maybe make a copy of the dataframe first...)\n",
    "\n",
    "**Hint:** You need to select a time interval (like slicing above) for a station and set these values to NaN "
   ]
  },
  {
   "cell_type": "code",
   "execution_count": null,
   "metadata": {
    "slideshow": {
     "slide_type": "skip"
    },
    "tags": []
   },
   "outputs": [],
   "source": [
    "# Write code here:\n",
    "\n",
    "\n",
    "\n",
    "\n",
    "\n"
   ]
  },
  {
   "cell_type": "markdown",
   "metadata": {
    "slideshow": {
     "slide_type": "skip"
    }
   },
   "source": [
    "**Caution:** Running the following cell will load the solution!"
   ]
  },
  {
   "cell_type": "code",
   "execution_count": null,
   "metadata": {
    "slideshow": {
     "slide_type": "skip"
    }
   },
   "outputs": [],
   "source": [
    "if input(\"Enter 'Solution' to display solutions: \")=='Solution':\n",
    "    %load ../solutions/PWSpyqc_1_solution.py\n"
   ]
  },
  {
   "cell_type": "markdown",
   "metadata": {
    "slideshow": {
     "slide_type": "slide"
    }
   },
   "source": [
    "### Analysis of missing values (NaN)"
   ]
  },
  {
   "cell_type": "code",
   "execution_count": null,
   "metadata": {},
   "outputs": [],
   "source": [
    "# Sorted number and %-ages of missing values per station\n",
    "pyqc.missing_values_table(df_pws_pcp_hourly)"
   ]
  },
  {
   "cell_type": "code",
   "execution_count": null,
   "metadata": {
    "slideshow": {
     "slide_type": "subslide"
    }
   },
   "outputs": [],
   "source": [
    "# Plot a histogram with numbers of NaN per station\n",
    "plt.hist(df_pws_pcp_hourly.isna().sum(), bins = np.arange(1000,19000,1000))\n",
    "plt.ylabel('Number of PWS')\n",
    "plt.xlabel('Number of NaN')"
   ]
  },
  {
   "cell_type": "markdown",
   "metadata": {
    "slideshow": {
     "slide_type": "slide"
    }
   },
   "source": [
    "### 1.4. Summary Part 1\n",
    "\n",
    "+ Raw (Netatmo) PWS data are often erroneous and need quality control before used in applications\n",
    "+ Simple analyis of common errors\n",
    "+ csv format is also possible to use for OS-data, however netCDF has several advantages"
   ]
  },
  {
   "cell_type": "markdown",
   "metadata": {
    "slideshow": {
     "slide_type": "slide"
    }
   },
   "source": [
    "## 2. First PWSpy-QC step: Indicator correlation based filter\n",
    "The fist QC-filter of PWS-pyqc is based on indicator correlation patterns of the primary network (cf. [Bárdossy et al. 2021](https://doi.org/10.5194/hess-25-583-2021)). First, the data of the primary network are converted to 1 and 0 based on a threshhold, in this case the 99%-percentile. All values above this percentile are 1, all below 0. This indicator correaltion of the primay stations has a spatial structure, i.e. the correlation decreases with increasing distance"
   ]
  },
  {
   "cell_type": "code",
   "execution_count": null,
   "metadata": {
    "slideshow": {
     "slide_type": "subslide"
    }
   },
   "outputs": [],
   "source": [
    "# Plot indicator correlation values different networks\n",
    "# calculate indicator correlation primary network\n",
    "print('Calculating indicator correlation')\n",
    "dist_prim, corr_prim = pyqc.calc_indic_corr_all_stns(\n",
    "                             coords_stns_xy=prim_coords_xy,\n",
    "                             pcp_vals=in_primary_pcp.values, prob=0.99)\n",
    "\n",
    "# calculate indicator correlation second primary network\n",
    "dist_prim2, corr_prim2 = pyqc.calc_indic_corr_all_stns(\n",
    "    coords_stns_xy=prim_coords_xy_2,\n",
    "    pcp_vals=in_primary_pcp_2.values, prob=0.99)\n",
    "\n",
    "# claculate indicator correlation PWS-PWS\n",
    "dist_pws, corr_pws = pyqc.calc_indic_corr_all_stns(\n",
    "                    coords_stns_xy=pws_coords_xy,\n",
    "                         pcp_vals=df_pws_pcp_hourly.values)\n",
    "\n",
    "# plot indicator correlations\n",
    "pyqc.plot_indic_coor(dist_prim=dist_prim,\n",
    "                corr_prim=corr_prim,\n",
    "                dist_pws=dist_pws,\n",
    "               corr_pws=corr_pws)"
   ]
  },
  {
   "cell_type": "markdown",
   "metadata": {
    "slideshow": {
     "slide_type": "fragment"
    }
   },
   "source": [
    "We can see that there is a large gap up to 20 km in the primary network, hence there's information about the spatial structure missing. This is the reason why the data from the KMNI gauge adjusted radar product are used in addtion"
   ]
  },
  {
   "cell_type": "markdown",
   "metadata": {
    "slideshow": {
     "slide_type": "slide"
    }
   },
   "source": [
    "### Excercise: \n",
    "+ Plot the dependece structure with the secondary primary network (i.e. data from radar pixels)\n",
    "\n",
    "**Hint:** Click on the function in the cell below and use shift Tab shows the syntax that the functions expect. Add the corresponding parameters"
   ]
  },
  {
   "cell_type": "code",
   "execution_count": null,
   "metadata": {
    "slideshow": {
     "slide_type": ""
    },
    "tags": []
   },
   "outputs": [],
   "source": [
    "pyqc.plot_indic_coor()"
   ]
  },
  {
   "cell_type": "code",
   "execution_count": null,
   "metadata": {
    "slideshow": {
     "slide_type": ""
    },
    "tags": []
   },
   "outputs": [],
   "source": [
    "#write your code here:\n",
    "\n",
    "\n",
    "\n",
    "\n",
    "\n"
   ]
  },
  {
   "cell_type": "markdown",
   "metadata": {
    "slideshow": {
     "slide_type": "skip"
    }
   },
   "source": [
    "**Caution:** Running the following cell will load the solution!"
   ]
  },
  {
   "cell_type": "code",
   "execution_count": null,
   "metadata": {
    "slideshow": {
     "slide_type": "skip"
    },
    "tags": []
   },
   "outputs": [],
   "source": [
    "if input(\"Enter 'Solution' to display solutions: \")=='Solution':\n",
    "    %load ../solutions/PWSpyqc_2_solution.py\n"
   ]
  },
  {
   "cell_type": "markdown",
   "metadata": {
    "slideshow": {
     "slide_type": "fragment"
    }
   },
   "source": [
    "As can be seen in the plot above, the primary stations have a certain dependence sturcture over distance. Most of the PWS as well, but there are also some PWS which do not follow this structure. When the indicator corrleation of a PWS next to a primary station is low, then it is likley that the PWS data are faulty. The first QC-filter pf PWS-pyqc now removes all PWS which do not show indicator correlations similiar to that of the reference data (primary stations)."
   ]
  },
  {
   "cell_type": "markdown",
   "metadata": {
    "slideshow": {
     "slide_type": "slide"
    }
   },
   "source": [
    "### Applying the Indicator correlation based filter¶"
   ]
  },
  {
   "cell_type": "code",
   "execution_count": null,
   "metadata": {
    "slideshow": {
     "slide_type": "-"
    }
   },
   "outputs": [],
   "source": [
    "# apply indicator filter (using primary stations 2)\n",
    "\n",
    "stn_in = pyqc.indicator_filter(xy_net=pws_coords_xy,\n",
    "                 prc_net=df_pws_pcp_hourly,\n",
    "                 xy_dwd=prim_coords_xy_2,\n",
    "                 prc_dwd=in_primary_pcp_2,\n",
    "                     prob=0.99, max_distance=max_distance,\n",
    "                     min_req_ppt_vals=2*24*30, show_plot=True,\n",
    "                     fn_figure='Indicator Correlation',\n",
    "                     save_folder=None,\n",
    "                    tolerance=.99)\n",
    "\n",
    "# what data type is stn_in\n",
    "# Was ist tolerance? (1 muss größer als min) Parameter zum aus probieren"
   ]
  },
  {
   "cell_type": "code",
   "execution_count": null,
   "metadata": {
    "slideshow": {
     "slide_type": "subslide"
    }
   },
   "outputs": [],
   "source": [
    "# list the accepted stations\n",
    "pws_ids_accepted = df_pws_pcp_hourly.columns[np.where(stn_in==True)]\n",
    "pws_ids_accepted"
   ]
  },
  {
   "cell_type": "markdown",
   "metadata": {
    "slideshow": {
     "slide_type": "subslide"
    },
    "tags": []
   },
   "source": [
    "This filter compares the PWS with all primary stations within the set `max_distance` (see above), i.e. if the indicator correlation low to the next primary stations the PWS might still be accepted if it fit's to a primary station further away. `threshold` -> how much lower an IC compared to the primary network is still accepted \n",
    "\n",
    "### Excercise:\n",
    "\n",
    "+ Change the `max_distance` and `threshold` parameters and see how these influence the results"
   ]
  },
  {
   "cell_type": "code",
   "execution_count": null,
   "metadata": {
    "slideshow": {
     "slide_type": "skip"
    },
    "tags": []
   },
   "outputs": [],
   "source": [
    "# copy code for indicator filter here and change the threshold for the indicator correlation:\n",
    "\n",
    "\n",
    "\n",
    "\n",
    "\n"
   ]
  },
  {
   "cell_type": "markdown",
   "metadata": {
    "slideshow": {
     "slide_type": "fragment"
    }
   },
   "source": [
    "**Question:** Why do you have to decrease the threshold for increasing temporal aggregation, e.g. for daily data?"
   ]
  },
  {
   "cell_type": "markdown",
   "metadata": {
    "slideshow": {
     "slide_type": "slide"
    },
    "tags": []
   },
   "source": [
    "## 3. Bias Correction\n",
    "\n",
    "PWS can over- or undererstimate the precepitation compared to a professional refernce station (panel b) in figure below). The reasons herefore are mayfold (c.f. Introduction). The goal is to correct the PWS distribution function usind the distribution function of neighbouring primary network stations. For more details see [Bárdossy et al. (2021)](https://doi.org/10.5194/hess-25-583-2021)\n",
    "\n",
    "<img src=\"./pics/bias.png\" alt=\"drawing\" width=\"800\"/>\n"
   ]
  },
  {
   "cell_type": "markdown",
   "metadata": {
    "slideshow": {
     "slide_type": "subslide"
    },
    "tags": []
   },
   "source": [
    "### Basic Scheme of the PWS-pyqc Bias Correction\n",
    "\n",
    "\n",
    "<img src=\"./pics/bias_correction.png\" alt=\"drawing\" width=\"400\"/>"
   ]
  },
  {
   "cell_type": "code",
   "execution_count": null,
   "metadata": {
    "slideshow": {
     "slide_type": "subslide"
    },
    "tags": []
   },
   "outputs": [],
   "source": [
    "df_pws_bias_corrected = pyqc.bias_corr_pws_cdf(df_pws_raw=df_pws_pcp_hourly,\n",
    "                        pws_ids_accepted=pws_ids_accepted,\n",
    "                        df_pws_coords=df_pws_coords,                            \n",
    "                        prim_coords_xy_2=prim_coords_xy_2,\n",
    "                        in_primary_pcp_2=in_primary_pcp_2,\n",
    "                        df_prim_coords_2=df_prim_coords_2,\n",
    "                        nstns_correct=2,#len(pws_ids_accepted), #2,\n",
    "                        plot_figures=True,\n",
    "                        ppt_min_thr_0_vals=0.1,  # below it all values get p0/2\n",
    "                        min_qt_to_correct=0.9,)"
   ]
  },
  {
   "cell_type": "markdown",
   "metadata": {
    "slideshow": {
     "slide_type": "subslide"
    },
    "tags": []
   },
   "source": [
    "The bias correction is rather slow, that's why this is only shown for 2 stations. In both cases the PWS underestimates the precipitation and thus the values are corrected towards higher values.\n",
    "\n",
    "\n",
    "\n",
    "### Excercise:\n",
    "\n",
    "+ Plot the time series for PWS ams1 before and after the bias correction\n",
    "\n",
    "  **Hint:** The bias correction function returns a new dataframe called `df_pws_bias_corrected`"
   ]
  },
  {
   "cell_type": "code",
   "execution_count": null,
   "metadata": {
    "slideshow": {
     "slide_type": "skip"
    }
   },
   "outputs": [],
   "source": [
    "# Write code here:\n",
    "\n",
    "\n",
    "\n",
    "\n",
    "\n"
   ]
  },
  {
   "cell_type": "markdown",
   "metadata": {},
   "source": [
    "**Caution:** Running the following cell will load the solution!"
   ]
  },
  {
   "cell_type": "code",
   "execution_count": null,
   "metadata": {},
   "outputs": [],
   "source": [
    "if input(\"Enter 'Solution' to display solutions: \")=='Solution':\n",
    "    %load ../solutions/PWSpyqc_3_solution.py"
   ]
  },
  {
   "cell_type": "markdown",
   "metadata": {
    "slideshow": {
     "slide_type": "slide"
    },
    "tags": []
   },
   "source": [
    "A different faster bias correction function is used here to correct all stations. This data set will be used for interpolation in the next section"
   ]
  },
  {
   "cell_type": "code",
   "execution_count": null,
   "metadata": {
    "slideshow": {
     "slide_type": ""
    },
    "tags": []
   },
   "outputs": [],
   "source": [
    "new_prc = pyqc.bias_correct(xy_net=pws_coords_xy,\n",
    "                       prc_net=df_pws_pcp_hourly.values,\n",
    "                       xy_prim=prim_coords_xy_2,\n",
    "                       prc_prim=in_primary_pcp_2.values,\n",
    "                           stn_in_bool=stn_in)\n",
    "\n",
    "df_corrected = pd.DataFrame(index=df_pws_pcp_hourly.index,\n",
    "                              data=new_prc,\n",
    "                              columns =df_pws_pcp_hourly.columns)\n",
    "\n",
    "# Für alle stationen?"
   ]
  },
  {
   "cell_type": "markdown",
   "metadata": {
    "slideshow": {
     "slide_type": "slide"
    },
    "tags": []
   },
   "source": [
    "## 4. Interpolate rainfall map from filtered and bias corrected PWS for a timestep\n",
    "\n",
    "The goal is to correct the PWS distribution function usind the distribution function of neighboring primary network stations. For more details see [Bárdossy et al. (2021)](https://doi.org/10.5194/hess-25-583-2021)\n",
    "\n",
    "We will also use the IDW interpolation routine from `pycomlink`"
   ]
  },
  {
   "cell_type": "markdown",
   "metadata": {},
   "source": [
    "In the cell below which sets up the IDW Interpolator in the line\n",
    "\n",
    "`pcp_all=df_corrected.iloc[18210, stn_in].values`\n",
    "\n",
    "the number `18210` refers to the index of a timestep where most PWS have recorded precipitation. If you , you can try to find all timesteps where e.g. more than 60 PWS have recorded precipitation and choose a corresponding index from there. Otherwise you can just continue using the index `18210`\n"
   ]
  },
  {
   "cell_type": "code",
   "execution_count": null,
   "metadata": {
    "slideshow": {
     "slide_type": "skip"
    },
    "tags": []
   },
   "outputs": [],
   "source": [
    "# write your code for finding time steps where most PWS have recorded precipitation\n",
    "\n",
    "\n",
    "\n",
    "\n",
    "\n",
    "\n"
   ]
  },
  {
   "cell_type": "markdown",
   "metadata": {},
   "source": [
    "**Caution:** Running the following cell will load the solution!"
   ]
  },
  {
   "cell_type": "code",
   "execution_count": null,
   "metadata": {},
   "outputs": [],
   "source": [
    "if input(\"Enter 'Solution' to display solutions: \")=='Solution':\n",
    "    %load ../solutions/PWSpyqc_41_solution.py"
   ]
  },
  {
   "cell_type": "code",
   "execution_count": null,
   "metadata": {
    "slideshow": {
     "slide_type": "subslide"
    },
    "tags": []
   },
   "outputs": [],
   "source": [
    "# Set up the IDW interpolator\n",
    "idw_interpolator = pycml.spatial.interpolator.IdwKdtreeInterpolator(\n",
    "    nnear=15, \n",
    "    p=2, \n",
    "    exclude_nan=True, \n",
    "    max_distance=0.3)\n",
    "\n",
    "#Create coordinates and data for interpolating values for a given timestamp/index\n",
    "lon_pws=df_pws_coords.loc[pws_ids_accepted]\n",
    "lat_pws=df_pws_coords.loc[pws_ids_accepted]\n",
    "pcp_all=df_corrected.iloc[18210, stn_in].values\n",
    "\n",
    "#Create indices for valid stations for the specific time step\n",
    "idx=np.where(pcp_all>= 0)\n",
    "\n",
    "R_grid = idw_interpolator(\n",
    "    x=lon_pws.lon.values[idx], \n",
    "    y=lat_pws.lat.values[idx], \n",
    "    z=pcp_all[idx], \n",
    "    resolution=0.01,)"
   ]
  },
  {
   "cell_type": "code",
   "execution_count": null,
   "metadata": {
    "slideshow": {
     "slide_type": "subslide"
    },
    "tags": []
   },
   "outputs": [],
   "source": [
    "# Plot the interpolated map and the locations of the accepted PWS\n",
    "bounds = np.arange(0, 8, 0.5)\n",
    "norm = mpl.colors.BoundaryNorm(boundaries=bounds, ncolors=256, extend='both')\n",
    "fig, ax = plt.subplots(figsize=(8, 6))\n",
    "pc = plt.pcolormesh(\n",
    "    idw_interpolator.xgrid, \n",
    "    idw_interpolator.ygrid, \n",
    "    R_grid, \n",
    "    shading='nearest', \n",
    "    cmap='Blues',\n",
    "    norm=norm,\n",
    ")\n",
    "plt.scatter(lon_pws.lon,lat_pws.lat, marker='o', color='r', alpha=.6)\n",
    "fig.colorbar(pc, label='Rainfall sum in mm');\n",
    "plt.show()\n"
   ]
  },
  {
   "cell_type": "markdown",
   "metadata": {
    "slideshow": {
     "slide_type": "subslide"
    },
    "tags": []
   },
   "source": [
    "### Excercise:\n",
    "\n",
    "+ Plot the original raw data for the same timestep and compare the results. Which parts int he codse do you have to change?\n",
    "\n",
    "**Hint:** copy & paste both cells from above and replace the corresponding variables under\n",
    "\n",
    "`#Create coordinates and data for interpolating values for a given timestamp/index` \n"
   ]
  },
  {
   "cell_type": "code",
   "execution_count": null,
   "metadata": {
    "slideshow": {
     "slide_type": "skip"
    },
    "tags": []
   },
   "outputs": [],
   "source": [
    "# write/copy/change code here:\n",
    "\n",
    "\n",
    "\n"
   ]
  },
  {
   "cell_type": "markdown",
   "metadata": {},
   "source": [
    "**Caution:** Running the following cell will load the solution!"
   ]
  },
  {
   "cell_type": "code",
   "execution_count": null,
   "metadata": {},
   "outputs": [],
   "source": [
    "if input(\"Enter 'Solution' to display solutions: \")=='Solution':\n",
    "    %load ../solutions/PWSpyqc_42a_solution.py"
   ]
  },
  {
   "cell_type": "markdown",
   "metadata": {},
   "source": [
    "Finally, we want to plot the difference between these two maps. Create a new grid showing the differences between the filtered and bias corrected PWS and the Raw data.\n",
    "**Hint:** As there fewer PWS in the filtered and bias corrected data than in the raw PWSdata set, the shapes of the Grids are different. This requires a work-around. \n"
   ]
  },
  {
   "cell_type": "code",
   "execution_count": null,
   "metadata": {},
   "outputs": [],
   "source": [
    "# Copy/write/change your code here:\n",
    "\n",
    "\n",
    "\n",
    "\n",
    "\n",
    "\n",
    "\n",
    "\n",
    "\n"
   ]
  },
  {
   "cell_type": "markdown",
   "metadata": {},
   "source": [
    "**Caution:** Running the following cell will load the solution!"
   ]
  },
  {
   "cell_type": "code",
   "execution_count": null,
   "metadata": {},
   "outputs": [],
   "source": [
    "if input(\"Enter 'Solution' to display solutions: \")=='Solution':\n",
    "    %load ../solutions/PWSpyqc_42b_solution.py"
   ]
  }
 ],
 "metadata": {
  "celltoolbar": "Slideshow",
  "kernelspec": {
   "display_name": "Python 3 (ipykernel)",
   "language": "python",
   "name": "python3"
  },
  "language_info": {
   "codemirror_mode": {
    "name": "ipython",
    "version": 3
   },
   "file_extension": ".py",
   "mimetype": "text/x-python",
   "name": "python",
   "nbconvert_exporter": "python",
   "pygments_lexer": "ipython3",
   "version": "3.10.6"
  },
  "toc": {
   "base_numbering": 0
  }
 },
 "nbformat": 4,
 "nbformat_minor": 4
}
