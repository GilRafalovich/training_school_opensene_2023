{
 "cells": [
  {
   "cell_type": "markdown",
   "id": "7a188b6c-f505-4571-b747-3ae8d38e9acd",
   "metadata": {},
   "source": [
    "# Training school set up"
   ]
  },
  {
   "cell_type": "markdown",
   "id": "6525dfed-28c2-433f-add8-e30a9c9d9630",
   "metadata": {},
   "source": [
    "In the CML part we will mainly use the package [pycomlink](https://github.com/pycomlink/pycomlink). The PWS and SML code is included in the traning school repository."
   ]
  },
  {
   "cell_type": "code",
   "execution_count": 1,
   "id": "5cbca3b6-f2a0-492e-88d0-c35bae0ce16c",
   "metadata": {},
   "outputs": [],
   "source": [
    "import pycomlink as pycml"
   ]
  },
  {
   "cell_type": "code",
   "execution_count": 2,
   "id": "ca0f0efd-b812-4288-8e3d-d1c6208c7e81",
   "metadata": {},
   "outputs": [
    {
     "name": "stdout",
     "output_type": "stream",
     "text": [
      "[\n",
      "  {\n",
      "    \"base_url\": \"https://conda.anaconda.org/conda-forge\",\n",
      "    \"build_number\": 0,\n",
      "    \"build_string\": \"pyhd8ed1ab_0\",\n",
      "    \"channel\": \"conda-forge\",\n",
      "    \"dist_name\": \"pycomlink-0.3.8-pyhd8ed1ab_0\",\n",
      "    \"name\": \"pycomlink\",\n",
      "    \"platform\": \"noarch\",\n",
      "    \"version\": \"0.3.8\"\n",
      "  }\n",
      "]\n"
     ]
    }
   ],
   "source": [
    "# this should give you pycomlink in version 0.3.8 or 0.3.9\n",
    "!conda list -n os_training_school -f pycomlink --json"
   ]
  },
  {
   "cell_type": "markdown",
   "id": "078eeec5-9cfb-4a47-82b8-0c3bb5410c2a",
   "metadata": {},
   "source": [
    "## Some Exercise:\n",
    "Let's print \"Hello World\""
   ]
  },
  {
   "cell_type": "code",
   "execution_count": 3,
   "id": "2e95e6ec-a523-4b94-a048-cceb7d5e4531",
   "metadata": {},
   "outputs": [],
   "source": [
    "# type your solution:\n"
   ]
  },
  {
   "cell_type": "code",
   "execution_count": null,
   "id": "97ac9cdc-be2b-4d0f-aab2-162855fe8c4a",
   "metadata": {},
   "outputs": [],
   "source": [
    "if input(\"Enter 'Solution' to display solutions: \")=='Solution':\n",
    "    %load solution.py"
   ]
  }
 ],
 "metadata": {
  "kernelspec": {
   "display_name": "Python 3 (ipykernel)",
   "language": "python",
   "name": "python3"
  },
  "language_info": {
   "codemirror_mode": {
    "name": "ipython",
    "version": 3
   },
   "file_extension": ".py",
   "mimetype": "text/x-python",
   "name": "python",
   "nbconvert_exporter": "python",
   "pygments_lexer": "ipython3",
   "version": "3.10.12"
  }
 },
 "nbformat": 4,
 "nbformat_minor": 5
}
